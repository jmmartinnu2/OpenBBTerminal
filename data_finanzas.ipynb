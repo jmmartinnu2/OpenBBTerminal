{
  "nbformat": 4,
  "nbformat_minor": 0,
  "metadata": {
    "colab": {
      "name": "data-finanzas.ipynb",
      "provenance": [],
      "collapsed_sections": [],
      "authorship_tag": "ABX9TyNV8yGyuBe6INMoZiXrOd72",
      "include_colab_link": true
    },
    "kernelspec": {
      "name": "python3",
      "display_name": "Python 3"
    },
    "language_info": {
      "name": "python"
    }
  },
  "cells": [
    {
      "cell_type": "markdown",
      "metadata": {
        "id": "view-in-github",
        "colab_type": "text"
      },
      "source": [
        "<a href=\"https://colab.research.google.com/github/jmmartinnu2/OpenBBTerminal/blob/main/data_finanzas.ipynb\" target=\"_parent\"><img src=\"https://colab.research.google.com/assets/colab-badge.svg\" alt=\"Open In Colab\"/></a>"
      ]
    },
    {
      "cell_type": "markdown",
      "source": [
        "#IMPORTAMOS LIBRERIAS"
      ],
      "metadata": {
        "id": "zpRVleMrGZL7"
      }
    },
    {
      "cell_type": "code",
      "source": [
        "import pandas as pd\n",
        "import numpy as np\n"
      ],
      "metadata": {
        "id": "3SSIPVSeGbeU"
      },
      "execution_count": 64,
      "outputs": []
    },
    {
      "cell_type": "code",
      "source": [
        "url='https://raw.githubusercontent.com/jmmartinnu2/Pandas-finanzas/main/world-indices-08-16-2022.csv'\n",
        "\n",
        "df = pd.read_csv(url)\n",
        "print(df)"
      ],
      "metadata": {
        "colab": {
          "base_uri": "https://localhost:8080/"
        },
        "id": "Y02PM1OVGjqr",
        "outputId": "bc6f2898-f8d8-45a0-a4b8-758314822c52"
      },
      "execution_count": 62,
      "outputs": [
        {
          "output_type": "stream",
          "name": "stdout",
          "text": [
            "                                               Symbol  \\\n",
            "0                                                $AEX   \n",
            "1                                                $AMX   \n",
            "2                                                $ATX   \n",
            "3                                                $BEL   \n",
            "4                                                $BUX   \n",
            "5                                                $CAC   \n",
            "6                                                $DAX   \n",
            "7                                               $MDAX   \n",
            "8                                               $IBEX   \n",
            "9                                                $OBX   \n",
            "10                                              $SSMI   \n",
            "11                                              $STXE   \n",
            "12                                               $RTS   \n",
            "13                                              $AXJO   \n",
            "14                                              $AORD   \n",
            "15                                               $NZD   \n",
            "16                                              $JKSE   \n",
            "17                                              $KLSE   \n",
            "18                                               $KSI   \n",
            "19                                              $KSIC   \n",
            "20                                              $CSHZ   \n",
            "21                                              $CHSA   \n",
            "22                                              $CHSB   \n",
            "23                                              $CHSC   \n",
            "24                                              $CHZA   \n",
            "25                                              $CHZB   \n",
            "26                                              $CHZC   \n",
            "27                                               $HSI   \n",
            "28                                              $HSCE   \n",
            "29                                              $NIFT   \n",
            "30                                               $NKY   \n",
            "31                                              $TOPX   \n",
            "32                                              $TWII   \n",
            "33                                              $SETF   \n",
            "34                                              $BVSP   \n",
            "35                                              $MERV   \n",
            "36                                               $MXX   \n",
            "37  Downloaded from Barchart.com as of 08-16-2022 ...   \n",
            "\n",
            "                                 Name       Last    %Chg 5D %Chg  1M %Chg  \\\n",
            "0                           Aex Index     728.88  +0.43%  +0.14%   +8.48%   \n",
            "1              Amsterdam Midkap Index     982.53  +0.32%  +1.76%  +10.49%   \n",
            "2               Austrian Traded Index    3084.82  -0.09%  +1.35%   +7.77%   \n",
            "3                        Bel 20 Index    3866.09  +0.57%  +1.77%   +4.38%   \n",
            "4                  Bux Budapest Index   43034.16  -1.44%  -2.27%   +8.51%   \n",
            "5                        CAC 40 Index    6569.95  +0.25%  +0.70%   +8.85%   \n",
            "6                     DAX Stock Index   13816.61  +0.15%  +0.94%   +7.40%   \n",
            "7                          Mdax Index   27908.14   0.00%  +0.20%   +9.20%   \n",
            "8                       Ibex 35 Index    8427.00  +0.32%  +1.87%   +6.05%   \n",
            "9                    Norway OBX Index    1134.63  -0.94%  +0.46%   +7.15%   \n",
            "10                 Swiss Market Index   11171.54  +0.39%  +0.05%   +1.73%   \n",
            "11                Euro Stoxx 50 Index    3789.62  +0.34%  +0.86%   +8.98%   \n",
            "12                          RTS Index    1112.93  -0.30%  +2.71%   -4.18%   \n",
            "13                      ASX 200 Index    7064.30  +0.45%  +0.62%   +6.94%   \n",
            "14               All Ordinaries Index    7324.90  +0.50%  +0.90%   +7.75%   \n",
            "15                       NZX 50 Index   11789.03  +0.50%  +0.74%   +5.99%   \n",
            "16            Jakarta Composite Index    7093.28  -0.50%  +0.09%   +6.64%   \n",
            "17          Bursa Malaysia KLCI Index    1504.01  -0.14%  +0.53%   +6.03%   \n",
            "18                    Kospi 200 Index     330.67  +0.23%  +0.97%   +8.41%   \n",
            "19              Kospi Composite Index    2527.94  +0.16%  +1.49%   +9.07%   \n",
            "20              CSI 300 Class A Index    4185.68  -0.13%  +0.91%   -1.48%   \n",
            "21             Shanghai Class A Index    3432.65  -0.02%  +1.22%   +1.48%   \n",
            "22             Shanghai Class B Index     308.50  +0.20%  +1.58%   +2.81%   \n",
            "23           Shanghai Composite Index    3276.09  -0.02%  +1.21%   +1.49%   \n",
            "24             Shenzhen Class A Index    2319.75  +0.47%  +1.57%   +2.66%   \n",
            "25             Shenzhen Class B Index    1266.33  +0.11%  +0.37%   +4.43%   \n",
            "26           Shenzhen Composite Index    2217.44  +0.47%  +1.57%   +2.66%   \n",
            "27                    Hang Seng Index   20040.86  -0.67%  -0.02%   -1.27%   \n",
            "28  Hang Seng China Enterprises Index    6814.47  -0.63%  -0.10%   -2.06%   \n",
            "29                SGX CNX Nifty Index   17698.15  +0.22%  +1.82%  +10.21%   \n",
            "30                   Nikkei 225 Index   28871.78  +1.14%  +2.47%   +7.78%   \n",
            "31                  Tokyo Topix Index    1984.96  +0.60%  +1.94%   +4.89%   \n",
            "32              Taiwan Weighted Index   15417.35  +0.84%  +2.64%   +5.96%   \n",
            "33                   Thai Set50 Index     986.65  +0.10%  +1.78%   +4.86%   \n",
            "34               Brazil Bovespa Index  113032.00  +0.24%  +4.27%  +17.07%   \n",
            "35             Argentina Merval Index  123333.90  -2.10%  -0.50%  +18.34%   \n",
            "36            Mexican Bolsa IPC Index   48638.37  -0.44%  +2.71%   +3.32%   \n",
            "37                                NaN        NaN     NaN     NaN      NaN   \n",
            "\n",
            "   52W %Chg   Opinion        Time  \n",
            "0    -5.93%    8% Buy  2022-08-15  \n",
            "1   -10.23%  40% Sell  2022-08-15  \n",
            "2   -15.42%  40% Sell  2022-08-15  \n",
            "3   -11.37%  40% Sell  2022-08-15  \n",
            "4   -14.58%   8% Sell  2022-08-15  \n",
            "5    -4.73%    8% Buy  2022-08-15  \n",
            "6   -13.52%  24% Sell  2022-08-15  \n",
            "7   -22.30%  40% Sell  2022-08-15  \n",
            "8    -6.36%  24% Sell  2022-08-15  \n",
            "9   +10.95%   72% Buy  2022-08-15  \n",
            "10  -10.37%  40% Sell  2022-08-15  \n",
            "11  -10.40%    8% Buy  2022-08-15  \n",
            "12  -33.22%  88% Sell  2022-08-15  \n",
            "13   -7.40%  24% Sell  2022-08-15  \n",
            "14   -7.25%  24% Sell  2022-08-15  \n",
            "15   -7.64%    8% Buy  2022-08-15  \n",
            "16  +15.54%   72% Buy  2022-08-15  \n",
            "17   -0.07%  40% Sell  2022-08-15  \n",
            "18  -21.71%  40% Sell  2022-08-12  \n",
            "19  -21.21%  40% Sell  2022-08-12  \n",
            "20  -15.37%  40% Sell  2022-08-15  \n",
            "21   -6.86%  40% Sell  2022-08-15  \n",
            "22  +16.24%   80% Buy  2022-08-15  \n",
            "23   -6.83%  40% Sell  2022-08-15  \n",
            "24  -10.20%   24% Buy  2022-08-15  \n",
            "25   +4.16%   88% Buy  2022-08-15  \n",
            "26  -10.18%   24% Buy  2022-08-15  \n",
            "27  -24.06%  88% Sell  2022-08-15  \n",
            "28  -27.33%  88% Sell  2022-08-15  \n",
            "29   +8.15%   24% Buy  2022-08-12  \n",
            "30   +3.20%   72% Buy  2022-08-15  \n",
            "31   +1.46%   72% Buy  2022-08-15  \n",
            "32   -9.21%  56% Sell  2022-08-15  \n",
            "33   +7.53%   8% Sell  2022-08-15  \n",
            "34   -6.73%    8% Buy  2022-08-15  \n",
            "35  +77.34%  100% Buy  2022-08-15  \n",
            "36   -5.54%  56% Sell  2022-08-15  \n",
            "37      NaN       NaN         NaN  \n"
          ]
        }
      ]
    },
    {
      "cell_type": "markdown",
      "source": [
        ""
      ],
      "metadata": {
        "id": "_hL5YmJYGYZE"
      }
    },
    {
      "cell_type": "markdown",
      "source": [
        "#COMENZAMOS LA OPTIMIZACIÓN DEL ARCHIVO------------"
      ],
      "metadata": {
        "id": "NPu3NxK1Oi3r"
      }
    },
    {
      "cell_type": "markdown",
      "source": [
        "#LONGITUD DEL DATASET"
      ],
      "metadata": {
        "id": "4_uNzMjvOtpz"
      }
    },
    {
      "cell_type": "code",
      "source": [
        "df.shape"
      ],
      "metadata": {
        "colab": {
          "base_uri": "https://localhost:8080/"
        },
        "id": "Fa5fGGn7Ozaz",
        "outputId": "1692db56-4970-4670-dd0e-4e894525662c"
      },
      "execution_count": 63,
      "outputs": [
        {
          "output_type": "execute_result",
          "data": {
            "text/plain": [
              "(38, 9)"
            ]
          },
          "metadata": {},
          "execution_count": 63
        }
      ]
    }
  ]
}